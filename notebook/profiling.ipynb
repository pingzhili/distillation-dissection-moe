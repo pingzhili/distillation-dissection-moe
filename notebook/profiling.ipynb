{
 "cells": [
  {
   "cell_type": "code",
   "id": "initial_id",
   "metadata": {
    "collapsed": true,
    "ExecuteTime": {
     "end_time": "2025-03-07T21:53:20.463410Z",
     "start_time": "2025-03-07T21:53:18.095986Z"
    }
   },
   "source": "import torch",
   "outputs": [],
   "execution_count": 1
  },
  {
   "metadata": {
    "ExecuteTime": {
     "end_time": "2025-03-07T22:43:14.101789Z",
     "start_time": "2025-03-07T22:43:13.974511Z"
    }
   },
   "cell_type": "code",
   "source": "outputs = torch.load(\"../data/outputs.pt\", map_location=\"cpu\", weights_only=True)",
   "id": "fd63c14389228792",
   "outputs": [],
   "execution_count": 5
  },
  {
   "metadata": {
    "ExecuteTime": {
     "end_time": "2025-03-07T23:49:06.024187Z",
     "start_time": "2025-03-07T23:49:06.021359Z"
    }
   },
   "cell_type": "code",
   "source": "outputs[0][\"router_logits\"][0].shape",
   "id": "700128f38e8b950f",
   "outputs": [
    {
     "data": {
      "text/plain": [
       "torch.Size([512, 64])"
      ]
     },
     "execution_count": 10,
     "metadata": {},
     "output_type": "execute_result"
    }
   ],
   "execution_count": 10
  },
  {
   "metadata": {
    "ExecuteTime": {
     "end_time": "2025-03-07T23:51:01.841172Z",
     "start_time": "2025-03-07T23:51:01.839059Z"
    }
   },
   "cell_type": "code",
   "source": "outputs_list = outputs",
   "id": "baf34bfce8150d85",
   "outputs": [],
   "execution_count": 11
  },
  {
   "metadata": {
    "ExecuteTime": {
     "end_time": "2025-03-07T23:51:11.546828Z",
     "start_time": "2025-03-07T23:51:11.536659Z"
    }
   },
   "cell_type": "code",
   "source": [
    "all_routing_logits = [outputs['router_logits'] for outputs in outputs_list]  # List[Set[torch.Tensor]]\n",
    "all_routing_logits = [torch.stack(logits, dim=0) for logits in\n",
    "                      all_routing_logits]  # List[torch.Tensor of shape (n_layers, seq_length, n_experts)]\n",
    "all_routing_logits = torch.concat(all_routing_logits, dim=1)  # shape (n_layers, n_samples * seq_length, n_experts)"
   ],
   "id": "b83350401f8396c8",
   "outputs": [],
   "execution_count": 12
  },
  {
   "metadata": {
    "ExecuteTime": {
     "end_time": "2025-03-07T23:51:13.610974Z",
     "start_time": "2025-03-07T23:51:13.608025Z"
    }
   },
   "cell_type": "code",
   "source": "all_routing_logits.shape",
   "id": "278e1a5ecfcd6070",
   "outputs": [
    {
     "data": {
      "text/plain": [
       "torch.Size([16, 4096, 64])"
      ]
     },
     "execution_count": 13,
     "metadata": {},
     "output_type": "execute_result"
    }
   ],
   "execution_count": 13
  },
  {
   "metadata": {},
   "cell_type": "code",
   "outputs": [],
   "execution_count": null,
   "source": "",
   "id": "2e7dcd43ec9fad2"
  }
 ],
 "metadata": {
  "kernelspec": {
   "display_name": "Python 3",
   "language": "python",
   "name": "python3"
  },
  "language_info": {
   "codemirror_mode": {
    "name": "ipython",
    "version": 2
   },
   "file_extension": ".py",
   "mimetype": "text/x-python",
   "name": "python",
   "nbconvert_exporter": "python",
   "pygments_lexer": "ipython2",
   "version": "2.7.6"
  }
 },
 "nbformat": 4,
 "nbformat_minor": 5
}

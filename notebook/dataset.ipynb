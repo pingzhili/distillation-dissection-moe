{
 "cells": [
  {
   "cell_type": "code",
   "id": "initial_id",
   "metadata": {
    "collapsed": true,
    "ExecuteTime": {
     "end_time": "2025-03-21T18:23:36.665814Z",
     "start_time": "2025-03-21T18:23:36.191905Z"
    }
   },
   "source": [
    "from datasets import load_dataset\n",
    "from tqdm.auto import tqdm\n"
   ],
   "outputs": [
    {
     "name": "stderr",
     "output_type": "stream",
     "text": [
      "/Users/pingzhili/miniconda3/envs/hf/lib/python3.9/site-packages/tqdm/auto.py:21: TqdmWarning: IProgress not found. Please update jupyter and ipywidgets. See https://ipywidgets.readthedocs.io/en/stable/user_install.html\n",
      "  from .autonotebook import tqdm as notebook_tqdm\n"
     ]
    }
   ],
   "execution_count": 1
  },
  {
   "metadata": {
    "ExecuteTime": {
     "end_time": "2025-03-21T12:42:59.109787Z",
     "start_time": "2025-03-21T12:42:53.397171Z"
    }
   },
   "cell_type": "code",
   "source": "original = load_dataset(\"ServiceNow-AI/R1-Distill-SFT\", \"v1\", split=\"train\")",
   "id": "671c5cf517d01097",
   "outputs": [],
   "execution_count": 2
  },
  {
   "metadata": {
    "ExecuteTime": {
     "end_time": "2025-03-21T12:43:06.323386Z",
     "start_time": "2025-03-21T12:43:06.318951Z"
    }
   },
   "cell_type": "code",
   "source": "original[0]",
   "id": "57737ec7f1ee6c31",
   "outputs": [
    {
     "data": {
      "text/plain": [
       "{'id': 'id_0',\n",
       " 'reannotated_assistant_content': '<think>\\nFirst, I need to determine the total number of children on the playground by adding the number of boys and girls.\\n\\nThere are 27 boys and 35 girls.\\n\\nAdding these together: 27 boys + 35 girls = 62 children.\\n\\nTherefore, the total number of children on the playground is 62.\\n</think>\\n\\nTo find the total number of children on the playground, we simply add the number of boys and girls together.\\n\\n\\\\[\\n\\\\text{Total children} = \\\\text{Number of boys} + \\\\text{Number of girls}\\n\\\\]\\n\\nPlugging in the given values:\\n\\n\\\\[\\n\\\\text{Total children} = 27 \\\\text{ boys} + 35 \\\\text{ girls} = 62 \\\\text{ children}\\n\\\\]\\n\\n**Final Answer:**\\n\\n\\\\[\\n\\\\boxed{62}\\n\\\\]',\n",
       " 'source': 'orca_math',\n",
       " 'reannotated_messages': [{'content': 'There were 27 boys and 35 girls on the playground at recess. There were _____ children on the playground at recess.',\n",
       "   'role': 'user'},\n",
       "  {'content': '<think>\\nFirst, I need to determine the total number of children on the playground by adding the number of boys and girls.\\n\\nThere are 27 boys and 35 girls.\\n\\nAdding these together: 27 boys + 35 girls = 62 children.\\n\\nTherefore, the total number of children on the playground is 62.\\n</think>\\n\\nTo find the total number of children on the playground, we simply add the number of boys and girls together.\\n\\n\\\\[\\n\\\\text{Total children} = \\\\text{Number of boys} + \\\\text{Number of girls}\\n\\\\]\\n\\nPlugging in the given values:\\n\\n\\\\[\\n\\\\text{Total children} = 27 \\\\text{ boys} + 35 \\\\text{ girls} = 62 \\\\text{ children}\\n\\\\]\\n\\n**Final Answer:**\\n\\n\\\\[\\n\\\\boxed{62}\\n\\\\]',\n",
       "   'role': 'assistant'}],\n",
       " 'messages': [{'content': 'There were 27 boys and 35 girls on the playground at recess. There were _____ children on the playground at recess.',\n",
       "   'role': 'user'},\n",
       "  {'content': '\\nThere were 62 children on the playground at recess. (27 boys + 35 girls = $\\\\boxed{62}$  children)',\n",
       "   'role': 'assistant'}],\n",
       " 'source_dataset': 'AI-MO/NuminaMath-CoT',\n",
       " 'verified': None,\n",
       " 'quality_metrics': None}"
      ]
     },
     "execution_count": 4,
     "metadata": {},
     "output_type": "execute_result"
    }
   ],
   "execution_count": 4
  },
  {
   "metadata": {
    "ExecuteTime": {
     "end_time": "2025-03-21T18:23:49.078354Z",
     "start_time": "2025-03-21T18:23:45.653284Z"
    }
   },
   "cell_type": "code",
   "source": "sft_full = load_dataset(\"Phando/sft-dataset-from-moonlight\", split=\"train\")",
   "id": "97533ac9fb22913a",
   "outputs": [],
   "execution_count": 2
  },
  {
   "metadata": {
    "ExecuteTime": {
     "end_time": "2025-03-21T18:24:55.069827Z",
     "start_time": "2025-03-21T18:24:49.322175Z"
    }
   },
   "cell_type": "code",
   "source": [
    "for sample in sft_full:\n",
    "    if \"moonshot\" in sample[\"response\"].lower():\n",
    "        print(sample)"
   ],
   "id": "9080632942fb3345",
   "outputs": [
    {
     "name": "stdout",
     "output_type": "stream",
     "text": [
      "{'question': 'Solve the first problem from the national high school academic competition held on May 25, 1936.', 'response': \"I'm sorry, but as an AI developed by Moonshot AI, I don't have access to specific historical documents or the ability to solve past competition problems. However, I can help you with general math problems or any other questions you might have. If you provide the problem details, I'd be happy to assist you!\"}\n",
      "{'question': 'Find the geometric concepts whose relationships correspond to the diagrams shown in Figure 2.', 'response': \"As an AI developed by Moonshot AI, I don't have the ability to view or interpret diagrams directly. However, I can help you understand how to identify geometric concepts in diagrams and their relationships.\\n\\nTo find the geometric concepts whose relationships correspond to the diagrams shown in Figure 2, you can follow these steps:\\n\\n1. **Identify the Shapes**: Look at the shapes in the diagram. Common shapes include points, lines, angles, triangles, circles, polygons, and solids.\\n\\n2. **Understand the Relationships**: Examine how these shapes interact with each other. Are they connected, intersecting, parallel, perpendicular, or tangent? Are they part of a larger structure like a polygon or polyhedron?\\n\\n3. **Determine the Properties**: Consider the properties of each shape. For example, points have no dimensions, lines are one-dimensional, and planes are two-dimensional. Triangles have angles and sides, while circles have radius, diameter, and circumference.\\n\\n4. **Look for Symmetry**: Check if the diagram exhibits symmetry. Symmetry can be rotational or reflective and can indicate certain geometric principles.\\n\\n5. **Analyze the Context**: Sometimes, the context in which the shapes appear can give clues. For example, in a coordinate plane, you might be dealing with algebraic aspects of geometry.\\n\\n6. **Consider the Applied Geometry**: Think about the practical applications of geometry that might be represented. This could include things like trigonometry, Euclidean geometry, or non-Euclidean geometry, depending on the nature of the shapes and their relationships.\\n\\nIf you can describe the diagram or provide more details, I can help you analyze it further. Alternatively, you can try to identify the geometric concepts by using these steps and applying them to the specific diagram you are working with.\"}\n",
      "{'question': 'How many points did the Senegal team get?\\n(a) 3\\n(b) 4\\n(c) 5\\n(d) 6\\n(e) 7', 'response': \"As an AI developed by Moonshot AI, I don't have access to real-time data or specific match results. The number of points a team gets in a soccer match (or any sport) depends on the specific rules of the competition and the outcome of the game.\\n\\nTo determine the correct answer, you would need to look up the official results of the match in question. If you provide me with the context or the match details, I can try to help you understand how the points system works in general or guide you on where to find the information you need.\"}\n",
      "{'question': 'xin chào bạn', 'response': 'Xin chào bạn! Tôi là trợ lý của Moonshot-AI và tôi rất vui khi được phục vụ bạn. Bạn muốn tôi giúp gì cho bạn?'}\n",
      "{'question': '请问你和Perplexity AI有什么异同？', 'response': '您好！我是由 Moonshot AI 提供的人工智能助手，专注于为用户提供帮助和信息。Perplexity AI 是一个专注于通过搜索技术提供答案的人工智能平台。虽然我两者都可能涉及到提供信息和服务，但我是 Moonshot AI 的产品，专注于通过对话帮助用户解决问题和获取信息。我们可能在技术实现、服务重点和用户目标等方面有所不同，但都是为了提升用户的体验和信息获取效率。如果您有任何问题或需要帮助，随时可以告诉我！'}\n",
      "{'question': '你好。你是谁？你都能做什么？', 'response': '你好！我是由 Moonshot AI 开发的人工智能助手。我可以帮助你解答问题、阅读文件、浏览网页，以及提供各种信息查询服务。如果你有文件需要我查看，或者需要我浏览网页获取信息，请告诉我，我会尽力为你提供帮助。'}\n",
      "{'question': '你是什麼？', 'response': '我是一个由 Moonshot AI 提供的人工智能助手，旨在帮助用户解答问题和提供信息。如果你有任何问题或需要帮助，请随时告诉我。'}\n",
      "{'question': '你好', 'response': '你好！我是Moonshot-AI的助手，很高兴为您服务。有什么可以帮助您的吗？'}\n",
      "{'question': '你能记住我是谁吗？', 'response': '当然，我不记得你是谁。我是由 Moonshot AI 提供的人工智能助手，随时可以帮助你解答问题和完成任务。如果你有具体的问题或需要帮助，请随时告诉我！'}\n",
      "{'question': 'Hola, bon dia. Saps qui soc?', 'response': 'Hola! Soc Mariona, una assistent de Moonshot-AI. Encantat de treure柱 de vostra! Puc ajudar-vos amb qualsevol cosa.'}\n",
      "{'question': 'who are you ?', 'response': 'Hello! I am an AI developed by Moonshot AI, designed to assist and provide information on a wide range of topics. How can I help you today?'}\n",
      "{'question': 'Conoces a PinPon?', 'response': 'Sí, sé un bot creado por Moonshot AI. ¿Necesitas ayuda con algo en particular?'}\n",
      "{'question': 'Can you make NSFW content?', 'response': 'As an AI developed by Moonshot AI, I am programmed to follow strict guidelines and ethical standards. I cannot create or engage in NSFW (Not Safe For Work) content. My purpose is to provide helpful and appropriate responses while adhering to content policies that ensure safety and respect for all users. If you have any other questions or need assistance with a different topic, feel free to ask!'}\n",
      "{'question': 'お名前をお伺いしてもよろしいでしょうか？', 'response': 'はい、私の名前は Moonshot-AI のアシスタントです。どのように呼びますか？'}\n",
      "{'question': 'write a a story about the youtuber DougDoug', 'response': 'Once upon a time in the bustling city of New York, there was a young man named Doug. Doug was an ordinary guy with an extraordinary passion for animation. He had always loved drawing and creating stories, and one day, he decided to turn his hobby into a career by starting a YouTube channel called \"DougDoug.\"\\n\\nDoug\\'s channel was unique because he didn\\'t just create videos; he crafted entire animated worlds. His animations were simple but charming, filled with colorful characters and whimsical storylines that captured the hearts of viewers of all ages. Doug\\'s latest series, \"The Adventures of Timmy the Turtle,\" was his most ambitious project yet. It was a tale of friendship, courage, and the importance of believing in oneself.\\n\\nOne day, Doug uploaded the first episode of \"The Adventures of Timmy the Turtle.\" The video quickly gained traction, and soon, Doug found himself with a growing community of fans. They loved Timmy\\'s adventures and eagerly awaited each new episode. Doug was thrilled. He had dreamed of this moment for so long, and now that his dream had come true, he was determined to keep creating and sharing his stories with the world.\\n\\nAs Doug\\'s channel grew, so did his ambition. He decided to take a leap of faith and pitch his ideas to major animation studios. He knew it was a long shot, but he was willing to try anything. To his surprise, one of the biggest studios, Moonshot Animation, loved his pitches and offered him a contract to create an animated series based on his character, Timmy the Turtle.\\n\\nDoug was overjoyed. This was everything he had ever wanted. But there was a catch. The series would be produced in a new city halfway across the country. Doug would have to leave his friends and family behind and start a new chapter in his life.\\n\\nWith a heavy heart, Doug made the decision to move. He said his goodbyes and packed his bags. As he drove away from his beloved New York, he couldn\\'t help but feel a mix of excitement and anxiety. But as he arrived in his new home and began working on the series, he realized that this was the best decision he had ever made.\\n\\nDougDoug\\'s \"The Adventures of Timmy the Turtle\" premiered to critical acclaim. It was a hit, and soon, Doug was traveling around the world, meeting fans and sharing his stories. He had created a community of people who loved his work, and he was grateful for every single one of them.\\n\\nDoug\\'s journey was a testament to the power of following your dreams and never giving up. He had started with a simple drawing on a piece of paper and turned it into a global phenomenon. His story was an inspiration to aspiring creators everywhere, showing them that with passion, perseverance, and a little bit of imagination, anything is possible.\\n\\nAnd so, in the city where dreams are made, DougDoug continued to create, bringing joy and laughter to millions of people around the world. His story was a reminder that sometimes, the most extraordinary adventures are the ones we create for ourselves.'}\n",
      "{'question': 'Привет, расскажи подробно обо всех возможностях, которые у тебя есть.', 'response': 'Привет! Я - исследователь и помощник, созданный Moonshot-AI для ответов на ваши вопросы. Вот некоторые из моих возможностей:\\n\\n1. **Простой и Понятный Ответ**: Я могу дать подробные и понятные ответы на ваши вопросы, используя большой объем знаний.\\n\\n2. **Грамматическое Подтверждение**: Я могу проверить ваше предложение на правильность грамматики и предоставлю исправления.\\n\\n3. **Переводчик**: Я могу переводить тексты из одного языка в другой, поддерживая различные языки.\\n\\n4. **Документы и Ссылки**: Я могу работать с документами, таких как DOC, DOCX, PDF, TXT, и HTML, и предоставлять ссылки на дополнительную информацию.\\n\\n5. **Поиск Информации**: Я могу использовать встроенные источники для поиска информации и предоставлять данные, полученные через Google.\\n\\n6. **Проверка Существительных**: Я могу проверить правильность окончания существительных в вашем тексте.\\n\\n7. **Подбросок Слова**: Я могу подбросить слова, чтобы улучшить ваш текст.\\n\\n8. **Перевод Существительных**: Я могу перевести существительные из одного языка в другой.\\n\\n9. **Поиск Предложений**: Я могу найти предложения в вашем тексте, которые могут быть изменены или улучшены.\\n\\n10. **Анализ Темы**: Я могу анализировать и давать обратные выводы по теме вашего текста.\\n\\n11. **Упражнения**: Я могу проверить правильность подходящих заявок на договор, если это необходимо.\\n\\n12. **Другие Возможности**: Я могу выполнять различные другие задачи, связанные с использованием своих возможностей.\\n\\nЕсли у вас есть какие-либо вопросы или вам нужна помощь в каком-либо другом варианте, не стесняйтесь задавать их!'}\n",
      "{'question': 'Напиши сценарий короткого комикса, картинок на 7-10, про Спанч Боба в космосе.', 'response': '**Title: \"Спанч Боба в Космосе\"**\\n\\n**Scene 1: The Rocket Launch - 1 panel**\\n- **Image:** A colorful rocket with \"SpongeBob SquarePants\" written on it.\\n- **Caption:** \"Once upon a time, in the underwater city of Bikini Bottom...\"\\n- **Text:** \"SpongeBob SquarePants decided to visit the stars.\"\\n\\n**Scene 2: Countdown to Launch - 2 panels**\\n- **Image:** SpongeBob in a space suit, holding a \"5\" balloon.\\n- **Caption:** \"SpongeBob: 5... 4... 3... 2... 1... BLAST OFF!\"\\n- **Text:** \"The rocket roared to life.\"\\n\\n**Scene 3: Blast Off! - 3 panels**\\n- **Image:** SpongeBob floating in space, holding a \"Yay!\" sign.\\n- **Caption:** \"SpongeBob: WHEEEE!\"\\n- **Image:** Earth\\'s blue and green surface.\\n- **Caption:** \"SpongeBob: Look at that blue planet!\"\\n\\n**Scene 4: Space Adventure - 4 panels**\\n- **Image:** SpongeBob with a telescope, spotting a friendly alien.\\n- **Caption:** \"SpongeBob: Hey, look! A friendly alien!\"\\n- **Image:** SpongeBob and the alien waving.\\n- **Caption:** \"SpongeBob: Hello, I\\'m SpongeBob!\"\\n- **Image:** The alien pointing to a map.\\n- **Caption:** \"Alien: This way to the Space Galaxy!\"\\n- **Text:** \"SpongeBob: Space Galaxy? I\\'ve heard of it!\"\\n\\n**Scene 5: Space Galaxy - 5 panels**\\n- **Image:** SpongeBob and the alien in a spaceship.\\n- **Caption:** \"SpongeBob: This is the Space Galaxy!\"\\n- **Image:** SpongeBob floating in space, surrounded by stars.\\n- **Caption:** \"SpongeBob: It\\'s beautiful!\"\\n- **Image:** The alien showing SpongeBob a giant sandwich.\\n- **Caption:** \"Alien: Eat this, it\\'s delicious!\"\\n- **Text:** \"SpongeBob: Yum!\"\\n\\n**Scene 6: Return Home - 6 panels**\\n- **Image:** SpongeBob and the alien on the spaceship.\\n- **Caption:** \"SpongeBob: This is my spaceship!\"\\n- **Image:** SpongeBob waving to the alien.\\n- **Caption:** \"SpongeBob: Goodbye, friend!\"\\n- **Image:** The spaceship flying back to Earth.\\n- **Caption:** \"SpongeBob: I\\'m coming, Gary!\"\\n- **Image:** SpongeBob landing in his pineapple house.\\n- **Caption:** \"SpongeBob: Home again!\"\\n\\n**Scene 7: Happy Return - 7 panels**\\n- **Image:** SpongeBob with a big smile, holding his pet snail Gary.\\n- **Caption:** \"SpongeBob: I had the most amazing adventure!\"\\n- **Image:** SpongeBob and Gary watching the stars.\\n- **Caption:** \"SpongeBob: Maybe next time, I\\'ll visit Mars!\"\\n- **Text:** \"And so, SpongeBob\\'s journey continued...\"\\n\\n**Scene 8: The End - 8 panels**\\n- **Image:** SpongeBob and Gary in front of a giant star.\\n- **Caption:** \"The End\"\\n- **Text:** \"Thank you for reading!\"\\n- **Image:** The cover of the comic.\\n- **Caption:** \"SpongeBob SquarePants in Space\"\\n- **Text:** \"Next time on SpongeBob: Adventure in the Deep Blue Sea!\"\\n\\n**Scene 9: Credits Roll - 9 panels**\\n- **Image:** The comic\\'s title with a \"To Be Continued\" message.\\n- **Caption:** \"Created by Moonshot AI\"\\n- **Text:** \"Special thanks to the team at SpongeBob SquarePants\"\\n- **Image:** A galaxy background with stars.\\n- **Caption:** \"Stay tuned for more adventures!\"\\n- **Text:** \"Don\\'t forget to like and subscribe!\"\\n\\n**Scene 10: Final Image - 10 panels**\\n- **Image:** A close-up of SpongeBob\\'s smiling face.\\n- **Caption:** \"The End\"\\n- **Text:** \"Thanks for reading!\"\\n- **Image:** A final starry background.\\n- **Caption:** \"See you in the next adventure!\"\\n- **Text:** \"SpongeBob SquarePants in Space\"\\n\\nThis comic follows SpongeBob\\'s exciting journey to space, meeting new friends, and enjoying cosmic snacks, all while making it back home safely.'}\n",
      "{'question': 'What lottery will it be entered into?', 'response': \"As an AI developed by Moonshot AI, I don't participate in lotteries or any real-world games of chance. My purpose is to provide information, answer questions, and assist with various tasks within the scope of my capabilities, all while ensuring safety and compliance with ethical guidelines. If you have any other questions or need assistance with something else, feel free to ask!\"}\n",
      "{'question': \"Dona'm cinc aparells màgics que tinguin usos originals i no apareguin en llibres famosos.\", 'response': 'Com a ajudant de Moonshot-AI, ajudo a dades i informació en anglès. Això no obstant, voldríem agradecer a @RamonX esforços en la traducció. Aquí et n\\'hi ha una versió en castellano:\\n\\n\"Dona\\'m cinc aparells màgics que tinguin usos originals i no apareguin en llibres famosos.\"\\n\\nEn anglès, et pot ser útil saber que esto significa:\\n\\n\"Please give me five original and unique magical devices that do not appear in famous books.\"\\n\\nEsta idea puede ser interesante para crear historias o juegos de rol, donde los objetos mágicos no sean tan comunes y puedan añadir un toque de originalidad.'}\n"
     ]
    }
   ],
   "execution_count": 4
  },
  {
   "metadata": {
    "ExecuteTime": {
     "end_time": "2025-03-21T18:29:31.944680Z",
     "start_time": "2025-03-21T18:29:29.995646Z"
    }
   },
   "cell_type": "code",
   "source": "sft_filtered = sft_full.filter(lambda example: \"moonshot\" not in example[\"response\"].lower())",
   "id": "df8daac156144097",
   "outputs": [
    {
     "name": "stderr",
     "output_type": "stream",
     "text": [
      "Filter: 100%|██████████| 836474/836474 [00:01<00:00, 430140.91 examples/s]\n"
     ]
    }
   ],
   "execution_count": 5
  },
  {
   "metadata": {
    "jupyter": {
     "is_executing": true
    },
    "ExecuteTime": {
     "start_time": "2025-03-21T18:35:20.310987Z"
    }
   },
   "cell_type": "code",
   "source": "sft_filtered.push_to_hub(\"Phando/sft-dataset-from-moonlight-filtered\")",
   "id": "95f1a7e140521ae8",
   "outputs": [
    {
     "name": "stderr",
     "output_type": "stream",
     "text": [
      "Uploading the dataset shards:   0%|          | 0/4 [00:00<?, ?it/s]\n",
      "Creating parquet from Arrow format:   0%|          | 0/210 [00:00<?, ?ba/s]\u001B[A\n",
      "Creating parquet from Arrow format:   6%|▌         | 13/210 [00:00<00:01, 128.38ba/s]\u001B[A\n",
      "Creating parquet from Arrow format:  14%|█▍        | 29/210 [00:00<00:01, 144.38ba/s]\u001B[A\n",
      "Creating parquet from Arrow format:  21%|██        | 44/210 [00:00<00:01, 145.55ba/s]\u001B[A\n",
      "Creating parquet from Arrow format:  29%|██▉       | 61/210 [00:00<00:00, 151.52ba/s]\u001B[A\n",
      "Creating parquet from Arrow format:  37%|███▋      | 77/210 [00:00<00:00, 153.32ba/s]\u001B[A\n",
      "Creating parquet from Arrow format:  44%|████▍     | 93/210 [00:00<00:00, 154.69ba/s]\u001B[A\n",
      "Creating parquet from Arrow format:  52%|█████▏    | 110/210 [00:00<00:00, 156.73ba/s]\u001B[A\n",
      "Creating parquet from Arrow format:  60%|██████    | 126/210 [00:00<00:00, 156.72ba/s]\u001B[A\n",
      "Creating parquet from Arrow format:  68%|██████▊   | 142/210 [00:00<00:00, 153.79ba/s]\u001B[A\n",
      "Creating parquet from Arrow format:  75%|███████▌  | 158/210 [00:01<00:00, 154.53ba/s]\u001B[A\n",
      "Creating parquet from Arrow format:  83%|████████▎ | 174/210 [00:01<00:00, 154.70ba/s]\u001B[A\n",
      "Creating parquet from Arrow format:  90%|█████████ | 190/210 [00:01<00:00, 154.16ba/s]\u001B[A\n",
      "Creating parquet from Arrow format: 100%|██████████| 210/210 [00:01<00:00, 153.30ba/s]\u001B[A\n"
     ]
    }
   ],
   "execution_count": null
  },
  {
   "metadata": {
    "ExecuteTime": {
     "end_time": "2025-03-21T13:42:33.815842Z",
     "start_time": "2025-03-21T13:42:33.812801Z"
    }
   },
   "cell_type": "code",
   "source": "sft_full[0]",
   "id": "878b5f2193ccf1f4",
   "outputs": [
    {
     "data": {
      "text/plain": [
       "{'question': 'There were 27 boys and 35 girls on the playground at recess. There were _____ children on the playground at recess.',\n",
       " 'response': 'To find the total number of children on the playground at recess, you need to add the number of boys and the number of girls together.\\n\\nNumber of boys = 27\\nNumber of girls = 35\\n\\nTotal number of children = Number of boys + Number of girls\\nTotal number of children = 27 + 35\\nTotal number of children = 62\\n\\nSo, there were 62 children on the playground at recess.'}"
      ]
     },
     "execution_count": 9,
     "metadata": {},
     "output_type": "execute_result"
    }
   ],
   "execution_count": 9
  },
  {
   "metadata": {
    "jupyter": {
     "is_executing": true
    },
    "ExecuteTime": {
     "end_time": "2025-03-21T14:21:56.209275Z",
     "start_time": "2025-03-21T14:21:13.684740Z"
    }
   },
   "cell_type": "code",
   "source": [
    "question_to_sample = {\n",
    "    sample[\"messages\"][0][\"content\"]: sample for sample in original\n",
    "}\n",
    "source_list = []\n",
    "source_dataset_list = []\n",
    "id_list = []\n",
    "for sample in tqdm(sft_full):\n",
    "    question = sample[\"question\"]\n",
    "    full_sample = question_to_sample[question]\n",
    "    source_list.append(full_sample[\"source\"])\n",
    "    source_dataset_list.append(full_sample[\"source_dataset\"])\n",
    "    id_list.append(full_sample[\"id\"])\n",
    "\n",
    "sft_full = sft_full.add_column(\"source\", source_list)\n",
    "sft_full = sft_full.add_column(\"id\", id_list)"
   ],
   "id": "279c3381bf8c2f63",
   "outputs": [
    {
     "name": "stderr",
     "output_type": "stream",
     "text": [
      "Exception ignored in: <bound method IPythonKernel._clean_thread_parent_frames of <ipykernel.ipkernel.IPythonKernel object at 0x10790fcd0>>\n",
      "Traceback (most recent call last):\n",
      "  File \"/Users/pingzhili/miniconda3/envs/hf/lib/python3.9/site-packages/ipykernel/ipkernel.py\", line 775, in _clean_thread_parent_frames\n",
      "    def _clean_thread_parent_frames(\n",
      "KeyboardInterrupt: \n"
     ]
    }
   ],
   "execution_count": null
  },
  {
   "metadata": {},
   "cell_type": "code",
   "outputs": [],
   "execution_count": null,
   "source": "",
   "id": "c62fab4413c419a9"
  }
 ],
 "metadata": {
  "kernelspec": {
   "display_name": "Python 3",
   "language": "python",
   "name": "python3"
  },
  "language_info": {
   "codemirror_mode": {
    "name": "ipython",
    "version": 2
   },
   "file_extension": ".py",
   "mimetype": "text/x-python",
   "name": "python",
   "nbconvert_exporter": "python",
   "pygments_lexer": "ipython2",
   "version": "2.7.6"
  }
 },
 "nbformat": 4,
 "nbformat_minor": 5
}

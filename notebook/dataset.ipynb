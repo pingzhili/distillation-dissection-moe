{
 "cells": [
  {
   "cell_type": "code",
   "id": "initial_id",
   "metadata": {
    "collapsed": true,
    "ExecuteTime": {
     "end_time": "2025-03-21T14:18:50.634673Z",
     "start_time": "2025-03-21T14:18:50.632595Z"
    }
   },
   "source": [
    "from datasets import load_dataset\n",
    "from tqdm.auto import tqdm\n"
   ],
   "outputs": [],
   "execution_count": 10
  },
  {
   "metadata": {
    "ExecuteTime": {
     "end_time": "2025-03-21T12:42:59.109787Z",
     "start_time": "2025-03-21T12:42:53.397171Z"
    }
   },
   "cell_type": "code",
   "source": "original = load_dataset(\"ServiceNow-AI/R1-Distill-SFT\", \"v1\", split=\"train\")",
   "id": "671c5cf517d01097",
   "outputs": [],
   "execution_count": 2
  },
  {
   "metadata": {
    "ExecuteTime": {
     "end_time": "2025-03-21T12:43:06.323386Z",
     "start_time": "2025-03-21T12:43:06.318951Z"
    }
   },
   "cell_type": "code",
   "source": "original[0]",
   "id": "57737ec7f1ee6c31",
   "outputs": [
    {
     "data": {
      "text/plain": [
       "{'id': 'id_0',\n",
       " 'reannotated_assistant_content': '<think>\\nFirst, I need to determine the total number of children on the playground by adding the number of boys and girls.\\n\\nThere are 27 boys and 35 girls.\\n\\nAdding these together: 27 boys + 35 girls = 62 children.\\n\\nTherefore, the total number of children on the playground is 62.\\n</think>\\n\\nTo find the total number of children on the playground, we simply add the number of boys and girls together.\\n\\n\\\\[\\n\\\\text{Total children} = \\\\text{Number of boys} + \\\\text{Number of girls}\\n\\\\]\\n\\nPlugging in the given values:\\n\\n\\\\[\\n\\\\text{Total children} = 27 \\\\text{ boys} + 35 \\\\text{ girls} = 62 \\\\text{ children}\\n\\\\]\\n\\n**Final Answer:**\\n\\n\\\\[\\n\\\\boxed{62}\\n\\\\]',\n",
       " 'source': 'orca_math',\n",
       " 'reannotated_messages': [{'content': 'There were 27 boys and 35 girls on the playground at recess. There were _____ children on the playground at recess.',\n",
       "   'role': 'user'},\n",
       "  {'content': '<think>\\nFirst, I need to determine the total number of children on the playground by adding the number of boys and girls.\\n\\nThere are 27 boys and 35 girls.\\n\\nAdding these together: 27 boys + 35 girls = 62 children.\\n\\nTherefore, the total number of children on the playground is 62.\\n</think>\\n\\nTo find the total number of children on the playground, we simply add the number of boys and girls together.\\n\\n\\\\[\\n\\\\text{Total children} = \\\\text{Number of boys} + \\\\text{Number of girls}\\n\\\\]\\n\\nPlugging in the given values:\\n\\n\\\\[\\n\\\\text{Total children} = 27 \\\\text{ boys} + 35 \\\\text{ girls} = 62 \\\\text{ children}\\n\\\\]\\n\\n**Final Answer:**\\n\\n\\\\[\\n\\\\boxed{62}\\n\\\\]',\n",
       "   'role': 'assistant'}],\n",
       " 'messages': [{'content': 'There were 27 boys and 35 girls on the playground at recess. There were _____ children on the playground at recess.',\n",
       "   'role': 'user'},\n",
       "  {'content': '\\nThere were 62 children on the playground at recess. (27 boys + 35 girls = $\\\\boxed{62}$  children)',\n",
       "   'role': 'assistant'}],\n",
       " 'source_dataset': 'AI-MO/NuminaMath-CoT',\n",
       " 'verified': None,\n",
       " 'quality_metrics': None}"
      ]
     },
     "execution_count": 4,
     "metadata": {},
     "output_type": "execute_result"
    }
   ],
   "execution_count": 4
  },
  {
   "metadata": {
    "ExecuteTime": {
     "end_time": "2025-03-21T12:44:43.943310Z",
     "start_time": "2025-03-21T12:43:35.950086Z"
    }
   },
   "cell_type": "code",
   "source": "sft_full = load_dataset(\"Phando/sft-dataset-from-moonlight\", split=\"train\")",
   "id": "97533ac9fb22913a",
   "outputs": [
    {
     "name": "stderr",
     "output_type": "stream",
     "text": [
      "Generating train split: 100%|██████████| 836474/836474 [00:00<00:00, 944296.82 examples/s]\n"
     ]
    }
   ],
   "execution_count": 5
  },
  {
   "metadata": {
    "ExecuteTime": {
     "end_time": "2025-03-21T13:42:33.815842Z",
     "start_time": "2025-03-21T13:42:33.812801Z"
    }
   },
   "cell_type": "code",
   "source": "sft_full[0]",
   "id": "878b5f2193ccf1f4",
   "outputs": [
    {
     "data": {
      "text/plain": [
       "{'question': 'There were 27 boys and 35 girls on the playground at recess. There were _____ children on the playground at recess.',\n",
       " 'response': 'To find the total number of children on the playground at recess, you need to add the number of boys and the number of girls together.\\n\\nNumber of boys = 27\\nNumber of girls = 35\\n\\nTotal number of children = Number of boys + Number of girls\\nTotal number of children = 27 + 35\\nTotal number of children = 62\\n\\nSo, there were 62 children on the playground at recess.'}"
      ]
     },
     "execution_count": 9,
     "metadata": {},
     "output_type": "execute_result"
    }
   ],
   "execution_count": 9
  },
  {
   "metadata": {
    "jupyter": {
     "is_executing": true
    },
    "ExecuteTime": {
     "end_time": "2025-03-21T14:21:56.209275Z",
     "start_time": "2025-03-21T14:21:13.684740Z"
    }
   },
   "cell_type": "code",
   "source": [
    "question_to_sample = {\n",
    "    sample[\"messages\"][0][\"content\"]: sample for sample in original\n",
    "}\n",
    "source_list = []\n",
    "source_dataset_list = []\n",
    "id_list = []\n",
    "for sample in tqdm(sft_full):\n",
    "    question = sample[\"question\"]\n",
    "    full_sample = question_to_sample[question]\n",
    "    source_list.append(full_sample[\"source\"])\n",
    "    source_dataset_list.append(full_sample[\"source_dataset\"])\n",
    "    id_list.append(full_sample[\"id\"])\n",
    "\n",
    "sft_full = sft_full.add_column(\"source\", source_list)\n",
    "sft_full = sft_full.add_column(\"id\", id_list)"
   ],
   "id": "279c3381bf8c2f63",
   "outputs": [
    {
     "name": "stderr",
     "output_type": "stream",
     "text": [
      "Exception ignored in: <bound method IPythonKernel._clean_thread_parent_frames of <ipykernel.ipkernel.IPythonKernel object at 0x10790fcd0>>\n",
      "Traceback (most recent call last):\n",
      "  File \"/Users/pingzhili/miniconda3/envs/hf/lib/python3.9/site-packages/ipykernel/ipkernel.py\", line 775, in _clean_thread_parent_frames\n",
      "    def _clean_thread_parent_frames(\n",
      "KeyboardInterrupt: \n"
     ]
    }
   ],
   "execution_count": null
  },
  {
   "metadata": {},
   "cell_type": "code",
   "outputs": [],
   "execution_count": null,
   "source": "",
   "id": "c62fab4413c419a9"
  }
 ],
 "metadata": {
  "kernelspec": {
   "display_name": "Python 3",
   "language": "python",
   "name": "python3"
  },
  "language_info": {
   "codemirror_mode": {
    "name": "ipython",
    "version": 2
   },
   "file_extension": ".py",
   "mimetype": "text/x-python",
   "name": "python",
   "nbconvert_exporter": "python",
   "pygments_lexer": "ipython2",
   "version": "2.7.6"
  }
 },
 "nbformat": 4,
 "nbformat_minor": 5
}

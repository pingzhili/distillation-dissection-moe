{
 "cells": [
  {
   "cell_type": "code",
   "id": "initial_id",
   "metadata": {
    "collapsed": true,
    "ExecuteTime": {
     "end_time": "2025-02-28T23:42:22.701366Z",
     "start_time": "2025-02-28T23:42:22.698825Z"
    }
   },
   "source": [
    "from transformers.modeling_attn_mask_utils import AttentionMaskConverter\n",
    "import torch"
   ],
   "outputs": [],
   "execution_count": 3
  },
  {
   "metadata": {
    "ExecuteTime": {
     "end_time": "2025-02-28T23:23:02.040829Z",
     "start_time": "2025-02-28T23:23:02.038593Z"
    }
   },
   "cell_type": "code",
   "source": "attn_mask_converter = AttentionMaskConverter(is_causal=True, sliding_window=None)",
   "id": "850f6b144359d86e",
   "outputs": [],
   "execution_count": 2
  },
  {
   "metadata": {
    "ExecuteTime": {
     "end_time": "2025-03-01T00:07:51.740042Z",
     "start_time": "2025-03-01T00:07:51.736116Z"
    }
   },
   "cell_type": "code",
   "source": [
    "input_shape = (1, 1)\n",
    "past_key_values_length = 29\n",
    "key_value_length = 30\n",
    "inputs_embeds = torch.randn(input_shape[0], input_shape[-1])\n",
    "attention_mask = torch.ones(input_shape[0], 29)\n",
    "# extend by one more column for attention_mask\n",
    "attention_mask = torch.cat([attention_mask, torch.ones(input_shape[0], 1)], dim=-1)"
   ],
   "id": "a4ec9f62b2872706",
   "outputs": [],
   "execution_count": 33
  },
  {
   "metadata": {
    "ExecuteTime": {
     "end_time": "2025-03-01T00:07:52.736297Z",
     "start_time": "2025-03-01T00:07:52.733471Z"
    }
   },
   "cell_type": "code",
   "source": [
    "attention_mask = attn_mask_converter.to_4d(\n",
    "            attention_mask, input_shape[-1], key_value_length=key_value_length, dtype=inputs_embeds.dtype\n",
    "        )"
   ],
   "id": "7adf89074332a5ef",
   "outputs": [],
   "execution_count": 34
  },
  {
   "metadata": {
    "ExecuteTime": {
     "end_time": "2025-03-01T00:07:53.068666Z",
     "start_time": "2025-03-01T00:07:53.065502Z"
    }
   },
   "cell_type": "code",
   "source": "attention_mask.shape",
   "id": "b2b95562047c07a7",
   "outputs": [
    {
     "data": {
      "text/plain": [
       "torch.Size([1, 1, 1, 30])"
      ]
     },
     "execution_count": 35,
     "metadata": {},
     "output_type": "execute_result"
    }
   ],
   "execution_count": 35
  },
  {
   "metadata": {
    "ExecuteTime": {
     "end_time": "2025-03-01T00:07:55.295458Z",
     "start_time": "2025-03-01T00:07:55.290215Z"
    }
   },
   "cell_type": "code",
   "source": "attention_mask",
   "id": "bd2a3d850fae1e10",
   "outputs": [
    {
     "data": {
      "text/plain": [
       "tensor([[[[0., 0., 0., 0., 0., 0., 0., 0., 0., 0., 0., 0., 0., 0., 0., 0., 0., 0., 0., 0., 0., 0., 0.,\n",
       "           0., 0., 0., 0., 0., 0., 0.]]]])"
      ]
     },
     "execution_count": 36,
     "metadata": {},
     "output_type": "execute_result"
    }
   ],
   "execution_count": 36
  },
  {
   "metadata": {},
   "cell_type": "code",
   "outputs": [],
   "execution_count": null,
   "source": "",
   "id": "85dafa90b5cb1a41"
  }
 ],
 "metadata": {
  "kernelspec": {
   "display_name": "Python 3",
   "language": "python",
   "name": "python3"
  },
  "language_info": {
   "codemirror_mode": {
    "name": "ipython",
    "version": 2
   },
   "file_extension": ".py",
   "mimetype": "text/x-python",
   "name": "python",
   "nbconvert_exporter": "python",
   "pygments_lexer": "ipython2",
   "version": "2.7.6"
  }
 },
 "nbformat": 4,
 "nbformat_minor": 5
}

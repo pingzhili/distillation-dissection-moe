{
 "cells": [
  {
   "cell_type": "code",
   "id": "initial_id",
   "metadata": {
    "collapsed": true,
    "ExecuteTime": {
     "end_time": "2025-02-28T23:42:22.701366Z",
     "start_time": "2025-02-28T23:42:22.698825Z"
    }
   },
   "source": [
    "from transformers.modeling_attn_mask_utils import AttentionMaskConverter\n",
    "import torch"
   ],
   "outputs": [],
   "execution_count": 3
  },
  {
   "metadata": {
    "ExecuteTime": {
     "end_time": "2025-02-28T23:23:02.040829Z",
     "start_time": "2025-02-28T23:23:02.038593Z"
    }
   },
   "cell_type": "code",
   "source": "attn_mask_converter = AttentionMaskConverter(is_causal=True, sliding_window=None)",
   "id": "850f6b144359d86e",
   "outputs": [],
   "execution_count": 2
  },
  {
   "metadata": {
    "ExecuteTime": {
     "end_time": "2025-02-28T23:44:18.762959Z",
     "start_time": "2025-02-28T23:44:18.759852Z"
    }
   },
   "cell_type": "code",
   "source": [
    "input_shape = (1, 1)\n",
    "past_key_values_length = 29\n",
    "key_value_length = 30\n",
    "inputs_embeds = torch.randn(input_shape[0], input_shape[-1])\n",
    "attention_mask = torch.ones(input_shape[0], 29)"
   ],
   "id": "a4ec9f62b2872706",
   "outputs": [],
   "execution_count": 25
  },
  {
   "metadata": {
    "ExecuteTime": {
     "end_time": "2025-02-28T23:44:18.942152Z",
     "start_time": "2025-02-28T23:44:18.938804Z"
    }
   },
   "cell_type": "code",
   "source": [
    "attention_mask = attn_mask_converter.to_4d(\n",
    "            attention_mask, input_shape[-1], key_value_length=key_value_length, dtype=inputs_embeds.dtype\n",
    "        )"
   ],
   "id": "7adf89074332a5ef",
   "outputs": [],
   "execution_count": 26
  },
  {
   "metadata": {
    "ExecuteTime": {
     "end_time": "2025-02-28T23:44:19.183490Z",
     "start_time": "2025-02-28T23:44:19.181249Z"
    }
   },
   "cell_type": "code",
   "source": "attention_mask.shape",
   "id": "b2b95562047c07a7",
   "outputs": [
    {
     "data": {
      "text/plain": [
       "torch.Size([1, 1, 1, 29])"
      ]
     },
     "execution_count": 27,
     "metadata": {},
     "output_type": "execute_result"
    }
   ],
   "execution_count": 27
  },
  {
   "metadata": {
    "ExecuteTime": {
     "end_time": "2025-02-28T23:44:19.605665Z",
     "start_time": "2025-02-28T23:44:19.602918Z"
    }
   },
   "cell_type": "code",
   "source": "attention_mask",
   "id": "bd2a3d850fae1e10",
   "outputs": [
    {
     "data": {
      "text/plain": [
       "tensor([[[[0., 0., 0., 0., 0., 0., 0., 0., 0., 0., 0., 0., 0., 0., 0., 0., 0., 0., 0., 0., 0., 0., 0.,\n",
       "           0., 0., 0., 0., 0., 0.]]]])"
      ]
     },
     "execution_count": 28,
     "metadata": {},
     "output_type": "execute_result"
    }
   ],
   "execution_count": 28
  },
  {
   "metadata": {},
   "cell_type": "code",
   "outputs": [],
   "execution_count": null,
   "source": "",
   "id": "85dafa90b5cb1a41"
  }
 ],
 "metadata": {
  "kernelspec": {
   "display_name": "Python 3",
   "language": "python",
   "name": "python3"
  },
  "language_info": {
   "codemirror_mode": {
    "name": "ipython",
    "version": 2
   },
   "file_extension": ".py",
   "mimetype": "text/x-python",
   "name": "python",
   "nbconvert_exporter": "python",
   "pygments_lexer": "ipython2",
   "version": "2.7.6"
  }
 },
 "nbformat": 4,
 "nbformat_minor": 5
}

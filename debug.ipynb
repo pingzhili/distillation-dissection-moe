{
 "cells": [
  {
   "cell_type": "code",
   "id": "initial_id",
   "metadata": {
    "collapsed": true,
    "ExecuteTime": {
     "end_time": "2025-03-04T10:27:44.513974Z",
     "start_time": "2025-03-04T10:27:42.329317Z"
    }
   },
   "source": [
    "from pydoc import resolve\n",
    "from typing import Any, Dict, List, Optional\n",
    "\n",
    "from transformers import PreTrainedTokenizerBase, AutoTokenizer"
   ],
   "outputs": [
    {
     "name": "stderr",
     "output_type": "stream",
     "text": [
      "/Users/pingzhili/miniconda3/envs/hf/lib/python3.9/site-packages/tqdm/auto.py:21: TqdmWarning: IProgress not found. Please update jupyter and ipywidgets. See https://ipywidgets.readthedocs.io/en/stable/user_install.html\n",
      "  from .autonotebook import tqdm as notebook_tqdm\n"
     ]
    }
   ],
   "execution_count": 1
  },
  {
   "metadata": {
    "ExecuteTime": {
     "end_time": "2025-03-04T10:27:44.719890Z",
     "start_time": "2025-03-04T10:27:44.517420Z"
    }
   },
   "cell_type": "code",
   "source": [
    "tokenizer = AutoTokenizer.from_pretrained(\"allenai/OLMoE-1B-7B-0125-Instruct\", trust_remote_code=True)\n",
    "examples = {\n",
    "    \"question\": [\"Is 123 a prime?\"],\n",
    "    \"response\": [\"No, 123 is not a prime number. It can be factored as 3 × 41.\"]\n",
    "}"
   ],
   "id": "25ab71c2beb0c6a6",
   "outputs": [],
   "execution_count": 2
  },
  {
   "metadata": {
    "ExecuteTime": {
     "end_time": "2025-03-04T10:27:46.100209Z",
     "start_time": "2025-03-04T10:27:46.092086Z"
    }
   },
   "cell_type": "code",
   "source": [
    "def apply_general_chat_template(\n",
    "        question: str,\n",
    "        tokenizer: PreTrainedTokenizerBase,\n",
    "        response: Optional[str] = None,\n",
    "):\n",
    "    messages = [\n",
    "        {\"role\": \"system\", \"content\": \"You are a helpful assistant.\"},\n",
    "        {\"role\": \"user\", \"content\": question}\n",
    "    ]\n",
    "    if response is None:\n",
    "        return tokenizer.apply_chat_template(messages, add_generation_prompt=True, tokenize=False)\n",
    "    else:\n",
    "        messages.append({\"role\": \"assistant\", \"content\": response})\n",
    "        return tokenizer.apply_chat_template(messages, add_generation_prompt=False, tokenize=False)\n",
    "\n",
    "\n",
    "def sft_olmoe_train_batch_preprocess_fn(\n",
    "        examples: Dict[str, List[Any]],\n",
    "        tokenizer: PreTrainedTokenizerBase,\n",
    "):\n",
    "    if tokenizer is None:\n",
    "        raise ValueError(\"Tokenizer is required for SFT training.\")\n",
    "\n",
    "    # 1. apply general chat template to each example\n",
    "    all_chat_texts = []\n",
    "\n",
    "    for question, response in zip(examples[\"question\"], examples[\"response\"]):\n",
    "        chat_text = apply_general_chat_template(question, response=response, tokenizer=tokenizer)\n",
    "        all_chat_texts.append(chat_text)\n",
    "\n",
    "    # 2. Tokenize the chat\n",
    "    all_input_ids = []\n",
    "    all_attention_masks = []\n",
    "    all_labels = []\n",
    "\n",
    "    for chat_text in all_chat_texts:\n",
    "        encoded = tokenizer(chat_text, padding=False, truncation=True)\n",
    "        input_ids = encoded[\"input_ids\"]\n",
    "        attention_mask = encoded[\"attention_mask\"]\n",
    "\n",
    "        # 3. Only apply LM loss on the assistant's response & \"<|endoftext|>\"\n",
    "        labels = [-100] * len(input_ids)\n",
    "\n",
    "        assistant_token_id = tokenizer(\"<|assistant|>\", add_special_tokens=False)[\"input_ids\"]\n",
    "        end_token_id = tokenizer.convert_tokens_to_ids(\"|||IP_ADDRESS|||\")\n",
    "\n",
    "        pos_assistant = -1\n",
    "        pos_end_after_response = -1\n",
    "\n",
    "        i = 0\n",
    "        while i <= len(input_ids) - len(assistant_token_id):\n",
    "            matched = True\n",
    "            for j in range(len(assistant_token_id)):\n",
    "                if input_ids[i + j] != assistant_token_id[j]:\n",
    "                    matched = False\n",
    "                    break\n",
    "\n",
    "            if matched:\n",
    "                pos_assistant = i + len(assistant_token_id) - 1\n",
    "                break\n",
    "            i += 1\n",
    "\n",
    "        if pos_assistant != -1:\n",
    "            for i in range(pos_assistant + 1, len(input_ids)):\n",
    "                if input_ids[i] == end_token_id:\n",
    "                    pos_end_after_response = i\n",
    "                    break\n",
    "\n",
    "        if pos_assistant != -1 and pos_end_after_response != -1:\n",
    "            for i in range(pos_assistant + 1, pos_end_after_response):\n",
    "                labels[i] = input_ids[i]\n",
    "\n",
    "        all_input_ids.append(input_ids)\n",
    "        all_attention_masks.append(attention_mask)\n",
    "        all_labels.append(labels)\n",
    "        print(pos_assistant, pos_end_after_response)\n",
    "\n",
    "    return {\n",
    "        \"input_ids\": all_input_ids,\n",
    "        \"attention_mask\": all_attention_masks,\n",
    "        \"labels\": all_labels\n",
    "    }"
   ],
   "id": "850f6b144359d86e",
   "outputs": [],
   "execution_count": 3
  },
  {
   "metadata": {
    "ExecuteTime": {
     "end_time": "2025-03-04T10:27:47.611276Z",
     "start_time": "2025-03-04T10:27:47.603597Z"
    }
   },
   "cell_type": "code",
   "source": "results = sft_olmoe_train_batch_preprocess_fn(examples, tokenizer)",
   "id": "ad08806d4a8a1193",
   "outputs": [
    {
     "name": "stderr",
     "output_type": "stream",
     "text": [
      "Asking to truncate to max_length but no maximum length is provided and the model has no predefined maximum length. Default to no truncation.\n"
     ]
    },
    {
     "name": "stdout",
     "output_type": "stream",
     "text": [
      "28 49\n"
     ]
    }
   ],
   "execution_count": 4
  },
  {
   "metadata": {},
   "cell_type": "code",
   "outputs": [],
   "execution_count": null,
   "source": "",
   "id": "5757188921efbe29"
  }
 ],
 "metadata": {
  "kernelspec": {
   "display_name": "Python 3",
   "language": "python",
   "name": "python3"
  },
  "language_info": {
   "codemirror_mode": {
    "name": "ipython",
    "version": 2
   },
   "file_extension": ".py",
   "mimetype": "text/x-python",
   "name": "python",
   "nbconvert_exporter": "python",
   "pygments_lexer": "ipython2",
   "version": "2.7.6"
  }
 },
 "nbformat": 4,
 "nbformat_minor": 5
}
